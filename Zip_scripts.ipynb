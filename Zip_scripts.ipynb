{
 "cells": [
  {
   "cell_type": "code",
   "execution_count": 1,
   "metadata": {},
   "outputs": [],
   "source": [
    "import zipfile\n",
    "\n",
    "zip_location = \"DeepLesion.zip\"\n",
    "sav_location = \"Daatasets/DeepLesion\"\n",
    "\n",
    "with zipfile.ZipFile(zip_location, 'r') as zip_ref:\n",
    "    zip_ref.extractall(sav_location)"
   ]
  },
  {
   "cell_type": "code",
   "execution_count": 5,
   "metadata": {},
   "outputs": [
    {
     "data": {
      "text/plain": [
       "'/data/Code_UNet_Backup2.zip'"
      ]
     },
     "execution_count": 5,
     "metadata": {},
     "output_type": "execute_result"
    }
   ],
   "source": [
    "import shutil\n",
    "\n",
    "shutil.make_archive(\"Code_UNet_Backup2\", 'zip', \"Code_UNet_2\")\n",
    "\n",
    "# import shutil\n",
    "\n",
    "# shutil.make_archive(\"test_outputs_backup\", 'zip', \"Test_outputs\")"
   ]
  },
  {
   "cell_type": "code",
   "execution_count": 14,
   "metadata": {},
   "outputs": [
    {
     "name": "stdout",
     "output_type": "stream",
     "text": [
      "Checkpoints_RANO/Unet_H16_M14_CO0_R3_main_data_0_00003/Parameters.py\n",
      "Checkpoints_RANO/Unet_H16_M14_CO100_R3_main_data_input_4/Parameters.py\n",
      "Checkpoints_RANO/Unet_H16_M14_CO1_R3_main_data_input_4/Parameters.py\n",
      "Checkpoints_RANO/Unet_H16_M14_CO0_R3_main_data_0_0003/Parameters.py\n",
      "Checkpoints_RANO/Unet_H16_M14_CO0_R3_main_data_0_000003/Parameters.py\n",
      "Checkpoints/split_data_experiments/Full_model_MK6_H16_PTE_CO100_R3_lr_00003_dice_main_21072022/Parameters_seg.py\n",
      "Checkpoints/split_data_experiments/Full_model_MK6_H16_PTE_CO100_R3_lr_003_bce_main_22072022/Parameters_seg.py\n",
      "Checkpoints/split_data_experiments/RI_division_AS_BN_S_1/Full_model_MK6_H16_RI_CO100_R3_lr_0003_dice_main_20_percent/Parameters_seg.py\n",
      "Checkpoints/split_data_experiments/RI_division_AS_BN_S_1/Full_model_MK6_H16_RI_CO100_R3_lr_0003_dice_main_10_percent/Parameters_seg.py\n",
      "Checkpoints/split_data_experiments/RI_division_AS_BN_S_1/Full_model_MK6_H16_RI_CO100_R3_lr_0003_dice_main_100_percent/Parameters_seg.py\n",
      "Checkpoints/split_data_experiments/RI_division_AS_BN_S_1/Full_model_MK6_H16_RI_CO100_R3_lr_0003_dice_main_40_percent/Parameters_seg.py\n",
      "Checkpoints/split_data_experiments/RI_division_AS_BN_S_1/Full_model_MK6_H16_RI_CO100_R3_lr_0003_dice_main_30_percent/Parameters_seg.py\n",
      "Checkpoints/split_data_experiments/RI_division_AS_BN_S_1/Full_model_MK6_H16_RI_CO100_R3_lr_0003_dice_main_50_percent/Parameters_seg.py\n",
      "Checkpoints/split_data_experiments/Full_model_MK6_H16_PTE_CO100_R3_lr_000003_bce_main_22072022/Parameters_seg.py\n",
      "Checkpoints/split_data_experiments/Full_model_MK6_H16_PTE_CO100_R3_lr_0003_bce_main_22072022/Parameters_seg.py\n",
      "Checkpoints/split_data_experiments/PTE_division_AS_BN_S_1/Full_model_MK6_H16_PTE_CO100_R3_lr_0003_dice_main_20_percent/Parameters_seg.py\n",
      "Checkpoints/split_data_experiments/PTE_division_AS_BN_S_1/Full_model_MK6_H16_PTE_CO100_R3_lr_0003_dice_main_30_percent/Parameters_seg.py\n",
      "Checkpoints/split_data_experiments/PTE_division_AS_BN_S_1/Full_model_MK6_H16_PTE_CO100_R3_lr_0003_dice_main_50_percent/Parameters_seg.py\n",
      "Checkpoints/split_data_experiments/PTE_division_AS_BN_S_1/Full_model_MK6_H16_PTE_CO100_R3_lr_0003_dice_main_100_percent/Parameters_seg.py\n",
      "Checkpoints/split_data_experiments/PTE_division_AS_BN_S_1/Full_model_MK6_H16_PTE_CO100_R3_lr_0003_dice_main_10_percent/Parameters_seg.py\n",
      "Checkpoints/split_data_experiments/PTE_division_AS_BN_S_1/Full_model_MK6_H16_PTE_CO100_R3_lr_0003_dice_main_40_percent/Parameters_seg.py\n",
      "Checkpoints/split_data_experiments/PFE_division_AS_BN_S_1/Full_model_MK6_H16_PFE_CO100_R3_lr_0003_dice_main_50_percent/Parameters_seg.py\n",
      "Checkpoints/split_data_experiments/PFE_division_AS_BN_S_1/Full_model_MK6_H16_PFE_CO100_R3_lr_0003_dice_main_20_percent/Parameters_seg.py\n",
      "Checkpoints/split_data_experiments/PFE_division_AS_BN_S_1/Full_model_MK6_H16_PFE_CO100_R3_lr_0003_dice_main_10_percent/Parameters_seg.py\n",
      "Checkpoints/split_data_experiments/PFE_division_AS_BN_S_1/Full_model_MK6_H16_PFE_CO100_R3_lr_0003_dice_main_30_percent/Parameters_seg.py\n",
      "Checkpoints/split_data_experiments/PFE_division_AS_BN_S_1/Full_model_MK6_H16_PFE_CO100_R3_lr_0003_dice_main_40_percent/Parameters_seg.py\n",
      "Checkpoints/split_data_experiments/PFE_division_AS_BN_S_1/0_Deprecated/Full_model_MK6_H16_PFE_CO100_R3_lr_0003_dice_main_20_percent/Parameters_seg.py\n",
      "Checkpoints/split_data_experiments/PFE_division_AS_BN_S_1/0_Deprecated/Full_model_MK6_H16_PFE_CO100_R3_lr_0003_dice_main_40_percent/Parameters_seg.py\n",
      "Checkpoints/split_data_experiments/PFE_division_AS_BN_S_1/Full_model_MK6_H16_PFE_CO100_R3_lr_0003_dice_main_100_percent/Parameters_seg.py\n",
      "Checkpoints/split_data_experiments/PFE_division_AS_BN_S_0/Full_model_MK6_H16_PFE_CO100_R3_lr_0003_dice_main_50_percent/Parameters_seg.py\n",
      "Checkpoints/split_data_experiments/PFE_division_AS_BN_S_0/Full_model_MK6_H16_PFE_CO100_R3_lr_0003_dice_main_20_percent/Parameters_seg.py\n",
      "Checkpoints/split_data_experiments/PFE_division_AS_BN_S_0/Full_model_MK6_H16_PFE_CO100_R3_lr_0003_dice_main_10_percent/Parameters_seg.py\n",
      "Checkpoints/split_data_experiments/PFE_division_AS_BN_S_0/Full_model_MK6_H16_PFE_CO100_R3_lr_0003_dice_main_30_percent/Parameters_seg.py\n",
      "Checkpoints/split_data_experiments/PFE_division_AS_BN_S_0/Full_model_MK6_H16_PFE_CO100_R3_lr_0003_dice_main_40_percent/Parameters_seg.py\n",
      "Checkpoints/split_data_experiments/Full_model_MK6_H16_PTE_CO100_R3_lr_003_dice_main_22072022/Parameters_seg.py\n",
      "Checkpoints/split_data_experiments/1_Full_model_MK6_H16_PTE_CO100_R3_lr_0003_dice_main/Parameters_seg.py\n",
      "Checkpoints/split_data_experiments/Full_model_MK6_H16_PTE_CO100_R3_lr_000003_dice_main_22072022/Parameters_seg.py\n",
      "Checkpoints/split_data_experiments/1_Full_model_MK6_H16_PFE_CO100_R3_lr_0003_dice_main/Parameters_seg.py\n",
      "Checkpoints/split_data_experiments/1_Full_model_MK6_H16_RI_CO100_R3_lr_0003_dice_main/Parameters_seg.py\n",
      "Checkpoints/split_data_experiments/Full_model_MK6_H16_PTE_CO100_R3_lr_00003_bce_main_22072022/Parameters_seg.py\n"
     ]
    }
   ],
   "source": [
    "from zipfile import ZipFile\n",
    "\n",
    "with ZipFile(\"Checkpoints/All_checkpoints.zip\", 'r') as zipObj:\n",
    "   # Get list of files names in zip\n",
    "   listOfiles = zipObj.namelist()\n",
    "   # Iterate over the list of file names in given list & print them\n",
    "   for elem in listOfiles:\n",
    "        if elem.endswith('Parameters.py'):\n",
    "            print(elem)\n",
    "            zipObj.extract(elem, 'Temp_param')\n",
    "        if elem.endswith('Parameters_seg.py'):\n",
    "            print(elem)\n",
    "            zipObj.extract(elem, 'Temp_param')\n",
    "\n",
    "# Checkpoints_RANO/Unet_H16_M14_CO100_R3_main_data_input_4/Parameters.py\n",
    "# Checkpoints/split_data_experiments/PTE_division_AS_BN_S_1/Full_model_MK6_H16_PTE_CO100_R3_lr_0003_dice_main_20_percent/Parameters_seg.py\n",
    "\n",
    "\n"
   ]
  },
  {
   "cell_type": "code",
   "execution_count": 10,
   "metadata": {},
   "outputs": [
    {
     "data": {
      "application/vnd.jupyter.widget-view+json": {
       "model_id": "6c7b73330ed6424d9c58966c00d40d46",
       "version_major": 2,
       "version_minor": 0
      },
      "text/plain": [
       "|          | 0/? [00:00<?, ?it/s]"
      ]
     },
     "metadata": {},
     "output_type": "display_data"
    }
   ],
   "source": [
    "import os\n",
    "import zipfile\n",
    "from tqdm.auto import tqdm\n",
    "    \n",
    "def zipdir(path, ziph):\n",
    "    # ziph is zipfile handle\n",
    "    for root, dirs, files in tqdm(os.walk(path)):\n",
    "        for file in files:\n",
    "            ziph.write(os.path.join(root, file), \n",
    "                       os.path.relpath(os.path.join(root, file), \n",
    "                                       os.path.join(path, '..')))\n",
    "\n",
    "with zipfile.ZipFile('Formatted_data.zip', 'w', zipfile.ZIP_DEFLATED) as zipf:\n",
    "    zipdir('CT_Data/', zipf)"
   ]
  },
  {
   "cell_type": "code",
   "execution_count": 2,
   "metadata": {},
   "outputs": [],
   "source": [
    "#import module\n",
    "import tarfile\n",
    " \n",
    "#declare filename\n",
    "filename = \"2023_Lung_CT_code/Task06_Lung.tar\"\n",
    " \n",
    "#open file in write mode\n",
    "file_obj = tarfile.open(filename,\"r\")\n",
    " \n",
    "#extract all files\n",
    "file = file_obj.extractall(\"2023_Lung_CT_code/\")\n",
    " \n",
    "#close file\n",
    "file_obj.close()"
   ]
  }
 ],
 "metadata": {
  "kernelspec": {
   "display_name": "Python 3",
   "language": "python",
   "name": "python3"
  },
  "language_info": {
   "codemirror_mode": {
    "name": "ipython",
    "version": 3
   },
   "file_extension": ".py",
   "mimetype": "text/x-python",
   "name": "python",
   "nbconvert_exporter": "python",
   "pygments_lexer": "ipython3",
   "version": "3.6.9"
  }
 },
 "nbformat": 4,
 "nbformat_minor": 4
}
