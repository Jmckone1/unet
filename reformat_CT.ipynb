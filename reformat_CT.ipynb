{
 "cells": [
  {
   "cell_type": "code",
   "execution_count": 1,
   "metadata": {},
   "outputs": [],
   "source": [
    "import tarfile\n",
    "tar = tarfile.open(\"Task06_Lung.tar\", \"r\")\n",
    "tar.extractall()\n",
    "tar.close()"
   ]
  },
  {
   "cell_type": "code",
   "execution_count": 4,
   "metadata": {},
   "outputs": [
    {
     "name": "stdout",
     "output_type": "stream",
     "text": [
      "['lung_047.nii.gz', 'lung_046.nii.gz', 'lung_070.nii.gz', 'lung_016.nii.gz', 'lung_061.nii.gz', 'lung_093.nii.gz', 'lung_086.nii.gz', 'lung_025.nii.gz', 'lung_065.nii.gz', 'lung_071.nii.gz', 'lung_041.nii.gz', 'lung_022.nii.gz', 'lung_033.nii.gz', 'lung_036.nii.gz', 'lung_018.nii.gz', 'lung_006.nii.gz', 'lung_092.nii.gz', 'lung_057.nii.gz', 'lung_037.nii.gz', 'lung_023.nii.gz', 'lung_080.nii.gz', 'lung_051.nii.gz', 'lung_079.nii.gz', 'lung_081.nii.gz', 'lung_054.nii.gz', 'lung_059.nii.gz', 'lung_075.nii.gz', 'lung_010.nii.gz', 'lung_038.nii.gz', 'lung_083.nii.gz', 'lung_028.nii.gz', 'lung_034.nii.gz', 'lung_042.nii.gz', 'lung_031.nii.gz', 'lung_020.nii.gz', 'lung_084.nii.gz', 'lung_073.nii.gz', 'lung_053.nii.gz', 'lung_015.nii.gz', 'lung_096.nii.gz', 'lung_055.nii.gz', 'lung_014.nii.gz', 'lung_005.nii.gz', 'lung_003.nii.gz', 'lung_095.nii.gz', 'lung_029.nii.gz', 'lung_066.nii.gz', 'lung_062.nii.gz', 'lung_044.nii.gz', 'lung_078.nii.gz', 'lung_004.nii.gz', 'lung_009.nii.gz', 'lung_058.nii.gz', 'lung_026.nii.gz', 'lung_043.nii.gz', 'lung_074.nii.gz', 'lung_064.nii.gz', 'lung_069.nii.gz', 'lung_045.nii.gz', 'lung_027.nii.gz', 'lung_048.nii.gz', 'lung_001.nii.gz', 'lung_049.nii.gz']\n",
      "\n",
      "Press enter if the following path is correct: /data/CT_Data/Task06_Lung/\n",
      "/data/CT_Data/Task06_Lung/lung_047\n",
      "/data/CT_Data/Task06_Lung/lung_046\n",
      "/data/CT_Data/Task06_Lung/lung_070\n",
      "/data/CT_Data/Task06_Lung/lung_016\n",
      "/data/CT_Data/Task06_Lung/lung_061\n",
      "/data/CT_Data/Task06_Lung/lung_093\n",
      "/data/CT_Data/Task06_Lung/lung_086\n",
      "/data/CT_Data/Task06_Lung/lung_025\n",
      "/data/CT_Data/Task06_Lung/lung_065\n",
      "/data/CT_Data/Task06_Lung/lung_071\n",
      "/data/CT_Data/Task06_Lung/lung_041\n",
      "/data/CT_Data/Task06_Lung/lung_022\n",
      "/data/CT_Data/Task06_Lung/lung_033\n",
      "/data/CT_Data/Task06_Lung/lung_036\n",
      "/data/CT_Data/Task06_Lung/lung_018\n",
      "/data/CT_Data/Task06_Lung/lung_006\n",
      "/data/CT_Data/Task06_Lung/lung_092\n",
      "/data/CT_Data/Task06_Lung/lung_057\n",
      "/data/CT_Data/Task06_Lung/lung_037\n",
      "/data/CT_Data/Task06_Lung/lung_023\n",
      "/data/CT_Data/Task06_Lung/lung_080\n",
      "/data/CT_Data/Task06_Lung/lung_051\n",
      "/data/CT_Data/Task06_Lung/lung_079\n",
      "/data/CT_Data/Task06_Lung/lung_081\n",
      "/data/CT_Data/Task06_Lung/lung_054\n",
      "/data/CT_Data/Task06_Lung/lung_059\n",
      "/data/CT_Data/Task06_Lung/lung_075\n",
      "/data/CT_Data/Task06_Lung/lung_010\n",
      "/data/CT_Data/Task06_Lung/lung_038\n",
      "/data/CT_Data/Task06_Lung/lung_083\n",
      "/data/CT_Data/Task06_Lung/lung_028\n",
      "/data/CT_Data/Task06_Lung/lung_034\n",
      "/data/CT_Data/Task06_Lung/lung_042\n",
      "/data/CT_Data/Task06_Lung/lung_031\n",
      "/data/CT_Data/Task06_Lung/lung_020\n",
      "/data/CT_Data/Task06_Lung/lung_084\n",
      "/data/CT_Data/Task06_Lung/lung_073\n",
      "/data/CT_Data/Task06_Lung/lung_053\n",
      "/data/CT_Data/Task06_Lung/lung_015\n",
      "/data/CT_Data/Task06_Lung/lung_096\n",
      "/data/CT_Data/Task06_Lung/lung_055\n",
      "/data/CT_Data/Task06_Lung/lung_014\n",
      "/data/CT_Data/Task06_Lung/lung_005\n",
      "/data/CT_Data/Task06_Lung/lung_003\n",
      "/data/CT_Data/Task06_Lung/lung_095\n",
      "/data/CT_Data/Task06_Lung/lung_029\n",
      "/data/CT_Data/Task06_Lung/lung_066\n",
      "/data/CT_Data/Task06_Lung/lung_062\n",
      "/data/CT_Data/Task06_Lung/lung_044\n",
      "/data/CT_Data/Task06_Lung/lung_078\n",
      "/data/CT_Data/Task06_Lung/lung_004\n",
      "/data/CT_Data/Task06_Lung/lung_009\n",
      "/data/CT_Data/Task06_Lung/lung_058\n",
      "/data/CT_Data/Task06_Lung/lung_026\n",
      "/data/CT_Data/Task06_Lung/lung_043\n",
      "/data/CT_Data/Task06_Lung/lung_074\n",
      "/data/CT_Data/Task06_Lung/lung_064\n",
      "/data/CT_Data/Task06_Lung/lung_069\n",
      "/data/CT_Data/Task06_Lung/lung_045\n",
      "/data/CT_Data/Task06_Lung/lung_027\n",
      "/data/CT_Data/Task06_Lung/lung_048\n",
      "/data/CT_Data/Task06_Lung/lung_001\n",
      "/data/CT_Data/Task06_Lung/lung_049\n"
     ]
    }
   ],
   "source": [
    "###### for each filepath\n",
    "    # get the name\n",
    "        # create new folder based on name\n",
    "        # copy truth data into the new folder\n",
    "        # copy the label data into the new folder\n",
    "        # run the prano extraction code and save into the same folders with the same naming convention\n",
    "        \n",
    "# code for reorganising the \n",
    "\n",
    "from os import walk\n",
    "import os\n",
    "\n",
    "import matplotlib.pyplot as plt\n",
    "import shutil\n",
    "\n",
    "Path = \"/2023_Lung_CT_code/Task06_Lung/\"\n",
    "New_path = \"/CT_Data/Task06_Lung/\"\n",
    "# os.chdir(os.getcwd())\n",
    "# print(os.getcwd())\n",
    "\n",
    "d = []\n",
    "cap_size = 0\n",
    "for (dir_path, dir_names, file_names) in walk(os.getcwd() + Path + \"imagesTr/\"):\n",
    "    if not file_names == []:\n",
    "        for file in file_names[-cap_size:]:\n",
    "            if not file[0].startswith(\".\"):\n",
    "                d.append(file)\n",
    "                counter = len(d)\n",
    "                \n",
    "print(d)\n",
    "print(\"\")\n",
    "input(\"Press enter if the following path is correct: \" + str(\"/data\" + New_path))\n",
    "\n",
    "for dir_name in d:\n",
    "    print(os.getcwd() + New_path + dir_name[:-7])\n",
    "    if not os.path.exists(\"/data\"  + New_path + dir_name[:-7]):\n",
    "        os.makedirs(\"/data\" + New_path + dir_name[:-7])\n",
    "        \n",
    "    if not os.path.exists(\"/data\" + New_path + dir_name[:-7] + \"/\" + dir_name[:-7] + \"_whimg.nii.gz\"):\n",
    "        original = os.getcwd() + Path + \"imagesTr/\" + dir_name \n",
    "        print(original)\n",
    "        target = \"/data\" + New_path + dir_name[:-7] + \"/\" + dir_name[:-7] + \"_whimg.nii.gz\"\n",
    "        print(target)\n",
    "        shutil.copyfile(original, target)\n",
    "    if not os.path.exists(\"/data\" + New_path + dir_name[:-7] + \"/\" + dir_name[:-7] + \"_whseg.nii.gz\"):\n",
    "        original = os.getcwd() + Path + \"labelsTr/\" + dir_name\n",
    "        print(original)\n",
    "        target = \"/data\" + New_path + dir_name[:-7] + \"/\" + dir_name[:-7] + \"_whseg.nii.gz\"\n",
    "        print(target)\n",
    "        shutil.copyfile(original, target)\n",
    "        print(\"\")"
   ]
  },
  {
   "cell_type": "code",
   "execution_count": 11,
   "metadata": {},
   "outputs": [
    {
     "name": "stdout",
     "output_type": "stream",
     "text": [
      "Output Size 63\n",
      "\n"
     ]
    },
    {
     "data": {
      "application/vnd.jupyter.widget-view+json": {
       "model_id": "cba3d96bd6854d43ba296f06cc9e9e3a",
       "version_major": 2,
       "version_minor": 0
      },
      "text/plain": [
       "  0%|          | 0/63 [00:00<?, ?it/s]"
      ]
     },
     "metadata": {},
     "output_type": "display_data"
    },
    {
     "name": "stdout",
     "output_type": "stream",
     "text": [
      "/data/CT_Data/Task06_Lung/lung_010/lung_010_whseg.nii.gz\n"
     ]
    },
    {
     "data": {
      "application/vnd.jupyter.widget-view+json": {
       "model_id": "00c5b7e79caf4ada87503f51c50bd8cc",
       "version_major": 2,
       "version_minor": 0
      },
      "text/plain": [
       "  0%|          | 0/241 [00:00<?, ?it/s]"
      ]
     },
     "metadata": {},
     "output_type": "display_data"
    },
    {
     "name": "stdout",
     "output_type": "stream",
     "text": [
      "/data/CT_Data/Task06_Lung/lung_049/lung_049_whseg.nii.gz\n"
     ]
    },
    {
     "data": {
      "application/vnd.jupyter.widget-view+json": {
       "model_id": "91254a15a74140c8ab2e9897388cd253",
       "version_major": 2,
       "version_minor": 0
      },
      "text/plain": [
       "  0%|          | 0/291 [00:00<?, ?it/s]"
      ]
     },
     "metadata": {},
     "output_type": "display_data"
    },
    {
     "name": "stdout",
     "output_type": "stream",
     "text": [
      "/data/CT_Data/Task06_Lung/lung_096/lung_096_whseg.nii.gz\n"
     ]
    },
    {
     "data": {
      "application/vnd.jupyter.widget-view+json": {
       "model_id": "fa2537c0f3d64ce9a0f2b23733f94cb4",
       "version_major": 2,
       "version_minor": 0
      },
      "text/plain": [
       "  0%|          | 0/251 [00:00<?, ?it/s]"
      ]
     },
     "metadata": {},
     "output_type": "display_data"
    },
    {
     "name": "stdout",
     "output_type": "stream",
     "text": [
      "/data/CT_Data/Task06_Lung/lung_031/lung_031_whseg.nii.gz\n"
     ]
    },
    {
     "data": {
      "application/vnd.jupyter.widget-view+json": {
       "model_id": "17dd3318fea14ecf8e6b73fede890866",
       "version_major": 2,
       "version_minor": 0
      },
      "text/plain": [
       "  0%|          | 0/304 [00:00<?, ?it/s]"
      ]
     },
     "metadata": {},
     "output_type": "display_data"
    },
    {
     "name": "stdout",
     "output_type": "stream",
     "text": [
      "/data/CT_Data/Task06_Lung/lung_037/lung_037_whseg.nii.gz\n"
     ]
    },
    {
     "data": {
      "application/vnd.jupyter.widget-view+json": {
       "model_id": "9cb1108832414a22851f35bbffbdc2a6",
       "version_major": 2,
       "version_minor": 0
      },
      "text/plain": [
       "  0%|          | 0/126 [00:00<?, ?it/s]"
      ]
     },
     "metadata": {},
     "output_type": "display_data"
    },
    {
     "name": "stdout",
     "output_type": "stream",
     "text": [
      "/data/CT_Data/Task06_Lung/lung_081/lung_081_whseg.nii.gz\n"
     ]
    },
    {
     "data": {
      "application/vnd.jupyter.widget-view+json": {
       "model_id": "dc915511aecb4dce98518b4afc83b176",
       "version_major": 2,
       "version_minor": 0
      },
      "text/plain": [
       "  0%|          | 0/249 [00:00<?, ?it/s]"
      ]
     },
     "metadata": {},
     "output_type": "display_data"
    },
    {
     "name": "stdout",
     "output_type": "stream",
     "text": [
      "/data/CT_Data/Task06_Lung/lung_066/lung_066_whseg.nii.gz\n"
     ]
    },
    {
     "data": {
      "application/vnd.jupyter.widget-view+json": {
       "model_id": "5725fbd27e284ab8af1304cf075a34c7",
       "version_major": 2,
       "version_minor": 0
      },
      "text/plain": [
       "  0%|          | 0/241 [00:00<?, ?it/s]"
      ]
     },
     "metadata": {},
     "output_type": "display_data"
    },
    {
     "name": "stdout",
     "output_type": "stream",
     "text": [
      "/data/CT_Data/Task06_Lung/lung_018/lung_018_whseg.nii.gz\n"
     ]
    },
    {
     "data": {
      "application/vnd.jupyter.widget-view+json": {
       "model_id": "5f64cf53ae1b4e309b33ea4f87af22e6",
       "version_major": 2,
       "version_minor": 0
      },
      "text/plain": [
       "  0%|          | 0/273 [00:00<?, ?it/s]"
      ]
     },
     "metadata": {},
     "output_type": "display_data"
    },
    {
     "name": "stdout",
     "output_type": "stream",
     "text": [
      "/data/CT_Data/Task06_Lung/lung_026/lung_026_whseg.nii.gz\n"
     ]
    },
    {
     "data": {
      "application/vnd.jupyter.widget-view+json": {
       "model_id": "3b593b93a6564864bf50b3a8062b39fa",
       "version_major": 2,
       "version_minor": 0
      },
      "text/plain": [
       "  0%|          | 0/227 [00:00<?, ?it/s]"
      ]
     },
     "metadata": {},
     "output_type": "display_data"
    },
    {
     "name": "stdout",
     "output_type": "stream",
     "text": [
      "/data/CT_Data/Task06_Lung/lung_020/lung_020_whseg.nii.gz\n"
     ]
    },
    {
     "data": {
      "application/vnd.jupyter.widget-view+json": {
       "model_id": "17204f2da75b4a2fae320ce68c75a03c",
       "version_major": 2,
       "version_minor": 0
      },
      "text/plain": [
       "  0%|          | 0/314 [00:00<?, ?it/s]"
      ]
     },
     "metadata": {},
     "output_type": "display_data"
    },
    {
     "name": "stdout",
     "output_type": "stream",
     "text": [
      "/data/CT_Data/Task06_Lung/lung_028/lung_028_whseg.nii.gz\n"
     ]
    },
    {
     "data": {
      "application/vnd.jupyter.widget-view+json": {
       "model_id": "79b43cb8dcbd4c09b5120a4606b2a3e1",
       "version_major": 2,
       "version_minor": 0
      },
      "text/plain": [
       "  0%|          | 0/251 [00:00<?, ?it/s]"
      ]
     },
     "metadata": {},
     "output_type": "display_data"
    },
    {
     "name": "stdout",
     "output_type": "stream",
     "text": [
      "/data/CT_Data/Task06_Lung/lung_086/lung_086_whseg.nii.gz\n"
     ]
    },
    {
     "data": {
      "application/vnd.jupyter.widget-view+json": {
       "model_id": "28a0c4d5ee60495fb0c4a7455f039e45",
       "version_major": 2,
       "version_minor": 0
      },
      "text/plain": [
       "  0%|          | 0/267 [00:00<?, ?it/s]"
      ]
     },
     "metadata": {},
     "output_type": "display_data"
    },
    {
     "name": "stdout",
     "output_type": "stream",
     "text": [
      "/data/CT_Data/Task06_Lung/lung_075/lung_075_whseg.nii.gz\n"
     ]
    },
    {
     "data": {
      "application/vnd.jupyter.widget-view+json": {
       "model_id": "95dc977f16f4497c9a54e0d582b54b3c",
       "version_major": 2,
       "version_minor": 0
      },
      "text/plain": [
       "  0%|          | 0/423 [00:00<?, ?it/s]"
      ]
     },
     "metadata": {},
     "output_type": "display_data"
    },
    {
     "name": "stdout",
     "output_type": "stream",
     "text": [
      "/data/CT_Data/Task06_Lung/lung_046/lung_046_whseg.nii.gz\n"
     ]
    },
    {
     "data": {
      "application/vnd.jupyter.widget-view+json": {
       "model_id": "099ecba8ecf74c4aaf9e5da43e9cf9fe",
       "version_major": 2,
       "version_minor": 0
      },
      "text/plain": [
       "  0%|          | 0/226 [00:00<?, ?it/s]"
      ]
     },
     "metadata": {},
     "output_type": "display_data"
    },
    {
     "name": "stdout",
     "output_type": "stream",
     "text": [
      "/data/CT_Data/Task06_Lung/lung_071/lung_071_whseg.nii.gz\n"
     ]
    },
    {
     "data": {
      "application/vnd.jupyter.widget-view+json": {
       "model_id": "5d7343498c324c3f8587dbd4a0309967",
       "version_major": 2,
       "version_minor": 0
      },
      "text/plain": [
       "  0%|          | 0/289 [00:00<?, ?it/s]"
      ]
     },
     "metadata": {},
     "output_type": "display_data"
    },
    {
     "name": "stdout",
     "output_type": "stream",
     "text": [
      "/data/CT_Data/Task06_Lung/lung_054/lung_054_whseg.nii.gz\n"
     ]
    },
    {
     "data": {
      "application/vnd.jupyter.widget-view+json": {
       "model_id": "55cf834d5dd147859d5680dfccdd8449",
       "version_major": 2,
       "version_minor": 0
      },
      "text/plain": [
       "  0%|          | 0/241 [00:00<?, ?it/s]"
      ]
     },
     "metadata": {},
     "output_type": "display_data"
    },
    {
     "name": "stdout",
     "output_type": "stream",
     "text": [
      "/data/CT_Data/Task06_Lung/lung_051/lung_051_whseg.nii.gz\n"
     ]
    },
    {
     "data": {
      "application/vnd.jupyter.widget-view+json": {
       "model_id": "5856fa586ab34e5d902660e0d876c0d8",
       "version_major": 2,
       "version_minor": 0
      },
      "text/plain": [
       "  0%|          | 0/155 [00:00<?, ?it/s]"
      ]
     },
     "metadata": {},
     "output_type": "display_data"
    },
    {
     "name": "stdout",
     "output_type": "stream",
     "text": [
      "/data/CT_Data/Task06_Lung/lung_014/lung_014_whseg.nii.gz\n"
     ]
    },
    {
     "data": {
      "application/vnd.jupyter.widget-view+json": {
       "model_id": "2330b21044a84c6b9fb1b2471033b742",
       "version_major": 2,
       "version_minor": 0
      },
      "text/plain": [
       "  0%|          | 0/589 [00:00<?, ?it/s]"
      ]
     },
     "metadata": {},
     "output_type": "display_data"
    },
    {
     "name": "stdout",
     "output_type": "stream",
     "text": [
      "/data/CT_Data/Task06_Lung/lung_001/lung_001_whseg.nii.gz\n"
     ]
    },
    {
     "data": {
      "application/vnd.jupyter.widget-view+json": {
       "model_id": "b4dc856072294144806f068eb857f2d7",
       "version_major": 2,
       "version_minor": 0
      },
      "text/plain": [
       "  0%|          | 0/304 [00:00<?, ?it/s]"
      ]
     },
     "metadata": {},
     "output_type": "display_data"
    },
    {
     "name": "stdout",
     "output_type": "stream",
     "text": [
      "/data/CT_Data/Task06_Lung/lung_083/lung_083_whseg.nii.gz\n"
     ]
    },
    {
     "data": {
      "application/vnd.jupyter.widget-view+json": {
       "model_id": "45a2735995fa49cc9e29c4084cb7144c",
       "version_major": 2,
       "version_minor": 0
      },
      "text/plain": [
       "  0%|          | 0/256 [00:00<?, ?it/s]"
      ]
     },
     "metadata": {},
     "output_type": "display_data"
    },
    {
     "name": "stdout",
     "output_type": "stream",
     "text": [
      "/data/CT_Data/Task06_Lung/lung_061/lung_061_whseg.nii.gz\n"
     ]
    },
    {
     "data": {
      "application/vnd.jupyter.widget-view+json": {
       "model_id": "7d09eb11010142229c49b7682e010600",
       "version_major": 2,
       "version_minor": 0
      },
      "text/plain": [
       "  0%|          | 0/211 [00:00<?, ?it/s]"
      ]
     },
     "metadata": {},
     "output_type": "display_data"
    },
    {
     "name": "stdout",
     "output_type": "stream",
     "text": [
      "/data/CT_Data/Task06_Lung/lung_033/lung_033_whseg.nii.gz\n"
     ]
    },
    {
     "data": {
      "application/vnd.jupyter.widget-view+json": {
       "model_id": "6a01d06a005648c68ff6e9864937a282",
       "version_major": 2,
       "version_minor": 0
      },
      "text/plain": [
       "  0%|          | 0/260 [00:00<?, ?it/s]"
      ]
     },
     "metadata": {},
     "output_type": "display_data"
    },
    {
     "name": "stdout",
     "output_type": "stream",
     "text": [
      "/data/CT_Data/Task06_Lung/lung_065/lung_065_whseg.nii.gz\n"
     ]
    },
    {
     "data": {
      "application/vnd.jupyter.widget-view+json": {
       "model_id": "dbb5f9e6d0334325b4bc92337390b0e9",
       "version_major": 2,
       "version_minor": 0
      },
      "text/plain": [
       "  0%|          | 0/128 [00:00<?, ?it/s]"
      ]
     },
     "metadata": {},
     "output_type": "display_data"
    },
    {
     "name": "stdout",
     "output_type": "stream",
     "text": [
      "/data/CT_Data/Task06_Lung/lung_080/lung_080_whseg.nii.gz\n"
     ]
    },
    {
     "data": {
      "application/vnd.jupyter.widget-view+json": {
       "model_id": "0b6e75fb0b4d4e6881bb84781d95f06d",
       "version_major": 2,
       "version_minor": 0
      },
      "text/plain": [
       "  0%|          | 0/450 [00:00<?, ?it/s]"
      ]
     },
     "metadata": {},
     "output_type": "display_data"
    },
    {
     "name": "stdout",
     "output_type": "stream",
     "text": [
      "/data/CT_Data/Task06_Lung/lung_069/lung_069_whseg.nii.gz\n"
     ]
    },
    {
     "data": {
      "application/vnd.jupyter.widget-view+json": {
       "model_id": "942609da969d43069154731b988fad35",
       "version_major": 2,
       "version_minor": 0
      },
      "text/plain": [
       "  0%|          | 0/242 [00:00<?, ?it/s]"
      ]
     },
     "metadata": {},
     "output_type": "display_data"
    },
    {
     "name": "stdout",
     "output_type": "stream",
     "text": [
      "/data/CT_Data/Task06_Lung/lung_045/lung_045_whseg.nii.gz\n"
     ]
    },
    {
     "data": {
      "application/vnd.jupyter.widget-view+json": {
       "model_id": "d2b70de017bc4ab394a98fbdaf0c5667",
       "version_major": 2,
       "version_minor": 0
      },
      "text/plain": [
       "  0%|          | 0/252 [00:00<?, ?it/s]"
      ]
     },
     "metadata": {},
     "output_type": "display_data"
    },
    {
     "name": "stdout",
     "output_type": "stream",
     "text": [
      "/data/CT_Data/Task06_Lung/lung_058/lung_058_whseg.nii.gz\n"
     ]
    },
    {
     "data": {
      "application/vnd.jupyter.widget-view+json": {
       "model_id": "057adb96cac24da1a8e8aa4787bce01c",
       "version_major": 2,
       "version_minor": 0
      },
      "text/plain": [
       "  0%|          | 0/241 [00:00<?, ?it/s]"
      ]
     },
     "metadata": {},
     "output_type": "display_data"
    },
    {
     "name": "stdout",
     "output_type": "stream",
     "text": [
      "/data/CT_Data/Task06_Lung/lung_027/lung_027_whseg.nii.gz\n"
     ]
    },
    {
     "data": {
      "application/vnd.jupyter.widget-view+json": {
       "model_id": "6bec3035e7e04c88819013cb91166457",
       "version_major": 2,
       "version_minor": 0
      },
      "text/plain": [
       "  0%|          | 0/264 [00:00<?, ?it/s]"
      ]
     },
     "metadata": {},
     "output_type": "display_data"
    },
    {
     "name": "stdout",
     "output_type": "stream",
     "text": [
      "/data/CT_Data/Task06_Lung/lung_093/lung_093_whseg.nii.gz\n"
     ]
    },
    {
     "data": {
      "application/vnd.jupyter.widget-view+json": {
       "model_id": "3a2f83747e324bac8b5fdf566557ca2d",
       "version_major": 2,
       "version_minor": 0
      },
      "text/plain": [
       "  0%|          | 0/228 [00:00<?, ?it/s]"
      ]
     },
     "metadata": {},
     "output_type": "display_data"
    },
    {
     "name": "stdout",
     "output_type": "stream",
     "text": [
      "/data/CT_Data/Task06_Lung/lung_047/lung_047_whseg.nii.gz\n"
     ]
    },
    {
     "data": {
      "application/vnd.jupyter.widget-view+json": {
       "model_id": "18827f1564704bfaa94f28e0d3361af9",
       "version_major": 2,
       "version_minor": 0
      },
      "text/plain": [
       "  0%|          | 0/636 [00:00<?, ?it/s]"
      ]
     },
     "metadata": {},
     "output_type": "display_data"
    },
    {
     "name": "stdout",
     "output_type": "stream",
     "text": [
      "/data/CT_Data/Task06_Lung/lung_043/lung_043_whseg.nii.gz\n"
     ]
    },
    {
     "data": {
      "application/vnd.jupyter.widget-view+json": {
       "model_id": "a3352760fd44414f90c5b81ace6ce32b",
       "version_major": 2,
       "version_minor": 0
      },
      "text/plain": [
       "  0%|          | 0/129 [00:00<?, ?it/s]"
      ]
     },
     "metadata": {},
     "output_type": "display_data"
    },
    {
     "name": "stdout",
     "output_type": "stream",
     "text": [
      "/data/CT_Data/Task06_Lung/lung_034/lung_034_whseg.nii.gz\n"
     ]
    },
    {
     "data": {
      "application/vnd.jupyter.widget-view+json": {
       "model_id": "c9873a24dd1747858ad698a1febe7563",
       "version_major": 2,
       "version_minor": 0
      },
      "text/plain": [
       "  0%|          | 0/296 [00:00<?, ?it/s]"
      ]
     },
     "metadata": {},
     "output_type": "display_data"
    },
    {
     "name": "stdout",
     "output_type": "stream",
     "text": [
      "/data/CT_Data/Task06_Lung/lung_025/lung_025_whseg.nii.gz\n"
     ]
    },
    {
     "data": {
      "application/vnd.jupyter.widget-view+json": {
       "model_id": "0337f25a64874ef897305a3fbc300f54",
       "version_major": 2,
       "version_minor": 0
      },
      "text/plain": [
       "  0%|          | 0/376 [00:00<?, ?it/s]"
      ]
     },
     "metadata": {},
     "output_type": "display_data"
    },
    {
     "name": "stdout",
     "output_type": "stream",
     "text": [
      "/data/CT_Data/Task06_Lung/lung_059/lung_059_whseg.nii.gz\n"
     ]
    },
    {
     "data": {
      "application/vnd.jupyter.widget-view+json": {
       "model_id": "fe9a726c05754212bf173b8402a39d44",
       "version_major": 2,
       "version_minor": 0
      },
      "text/plain": [
       "  0%|          | 0/218 [00:00<?, ?it/s]"
      ]
     },
     "metadata": {},
     "output_type": "display_data"
    },
    {
     "name": "stdout",
     "output_type": "stream",
     "text": [
      "/data/CT_Data/Task06_Lung/lung_070/lung_070_whseg.nii.gz\n"
     ]
    },
    {
     "data": {
      "application/vnd.jupyter.widget-view+json": {
       "model_id": "a6564f909ae740cf818539c43f47b79a",
       "version_major": 2,
       "version_minor": 0
      },
      "text/plain": [
       "  0%|          | 0/266 [00:00<?, ?it/s]"
      ]
     },
     "metadata": {},
     "output_type": "display_data"
    },
    {
     "name": "stdout",
     "output_type": "stream",
     "text": [
      "/data/CT_Data/Task06_Lung/lung_023/lung_023_whseg.nii.gz\n"
     ]
    },
    {
     "data": {
      "application/vnd.jupyter.widget-view+json": {
       "model_id": "1fd1838804264d60bf0079fca3ad65f9",
       "version_major": 2,
       "version_minor": 0
      },
      "text/plain": [
       "  0%|          | 0/531 [00:00<?, ?it/s]"
      ]
     },
     "metadata": {},
     "output_type": "display_data"
    },
    {
     "name": "stdout",
     "output_type": "stream",
     "text": [
      "/data/CT_Data/Task06_Lung/lung_003/lung_003_whseg.nii.gz\n"
     ]
    },
    {
     "data": {
      "application/vnd.jupyter.widget-view+json": {
       "model_id": "c8bbb60b25de41f9b26ca4d31b313eee",
       "version_major": 2,
       "version_minor": 0
      },
      "text/plain": [
       "  0%|          | 0/288 [00:00<?, ?it/s]"
      ]
     },
     "metadata": {},
     "output_type": "display_data"
    },
    {
     "name": "stdout",
     "output_type": "stream",
     "text": [
      "/data/CT_Data/Task06_Lung/lung_095/lung_095_whseg.nii.gz\n"
     ]
    },
    {
     "data": {
      "application/vnd.jupyter.widget-view+json": {
       "model_id": "95baf79135804cd597aa732fdf0b3914",
       "version_major": 2,
       "version_minor": 0
      },
      "text/plain": [
       "  0%|          | 0/231 [00:00<?, ?it/s]"
      ]
     },
     "metadata": {},
     "output_type": "display_data"
    },
    {
     "name": "stdout",
     "output_type": "stream",
     "text": [
      "/data/CT_Data/Task06_Lung/lung_092/lung_092_whseg.nii.gz\n"
     ]
    },
    {
     "data": {
      "application/vnd.jupyter.widget-view+json": {
       "model_id": "b005d3913a864365b64e4f65fd4cf8d0",
       "version_major": 2,
       "version_minor": 0
      },
      "text/plain": [
       "  0%|          | 0/245 [00:00<?, ?it/s]"
      ]
     },
     "metadata": {},
     "output_type": "display_data"
    },
    {
     "name": "stdout",
     "output_type": "stream",
     "text": [
      "/data/CT_Data/Task06_Lung/lung_057/lung_057_whseg.nii.gz\n"
     ]
    },
    {
     "data": {
      "application/vnd.jupyter.widget-view+json": {
       "model_id": "0f530c7e12a745c9a8ee12d16a7a9b24",
       "version_major": 2,
       "version_minor": 0
      },
      "text/plain": [
       "  0%|          | 0/112 [00:00<?, ?it/s]"
      ]
     },
     "metadata": {},
     "output_type": "display_data"
    },
    {
     "name": "stdout",
     "output_type": "stream",
     "text": [
      "/data/CT_Data/Task06_Lung/lung_048/lung_048_whseg.nii.gz\n"
     ]
    },
    {
     "data": {
      "application/vnd.jupyter.widget-view+json": {
       "model_id": "e169833260694ac387d90629250e174b",
       "version_major": 2,
       "version_minor": 0
      },
      "text/plain": [
       "  0%|          | 0/322 [00:00<?, ?it/s]"
      ]
     },
     "metadata": {},
     "output_type": "display_data"
    },
    {
     "name": "stdout",
     "output_type": "stream",
     "text": [
      "/data/CT_Data/Task06_Lung/lung_053/lung_053_whseg.nii.gz\n"
     ]
    },
    {
     "data": {
      "application/vnd.jupyter.widget-view+json": {
       "model_id": "dc9af8041dd447ec91ea6987b471fc05",
       "version_major": 2,
       "version_minor": 0
      },
      "text/plain": [
       "  0%|          | 0/252 [00:00<?, ?it/s]"
      ]
     },
     "metadata": {},
     "output_type": "display_data"
    },
    {
     "name": "stdout",
     "output_type": "stream",
     "text": [
      "/data/CT_Data/Task06_Lung/lung_055/lung_055_whseg.nii.gz\n"
     ]
    },
    {
     "data": {
      "application/vnd.jupyter.widget-view+json": {
       "model_id": "6761c67440d24e96b6e450761a03c21f",
       "version_major": 2,
       "version_minor": 0
      },
      "text/plain": [
       "  0%|          | 0/242 [00:00<?, ?it/s]"
      ]
     },
     "metadata": {},
     "output_type": "display_data"
    },
    {
     "name": "stdout",
     "output_type": "stream",
     "text": [
      "/data/CT_Data/Task06_Lung/lung_084/lung_084_whseg.nii.gz\n"
     ]
    },
    {
     "data": {
      "application/vnd.jupyter.widget-view+json": {
       "model_id": "254e80e9f85b4bf3a61ac2c7a29ae96a",
       "version_major": 2,
       "version_minor": 0
      },
      "text/plain": [
       "  0%|          | 0/241 [00:00<?, ?it/s]"
      ]
     },
     "metadata": {},
     "output_type": "display_data"
    },
    {
     "name": "stdout",
     "output_type": "stream",
     "text": [
      "/data/CT_Data/Task06_Lung/lung_044/lung_044_whseg.nii.gz\n"
     ]
    },
    {
     "data": {
      "application/vnd.jupyter.widget-view+json": {
       "model_id": "d0dead73bab74baab847989988fa7d99",
       "version_major": 2,
       "version_minor": 0
      },
      "text/plain": [
       "  0%|          | 0/282 [00:00<?, ?it/s]"
      ]
     },
     "metadata": {},
     "output_type": "display_data"
    },
    {
     "name": "stdout",
     "output_type": "stream",
     "text": [
      "/data/CT_Data/Task06_Lung/lung_036/lung_036_whseg.nii.gz\n"
     ]
    },
    {
     "data": {
      "application/vnd.jupyter.widget-view+json": {
       "model_id": "0d29ff9967704e6cac718912d0d8800a",
       "version_major": 2,
       "version_minor": 0
      },
      "text/plain": [
       "  0%|          | 0/271 [00:00<?, ?it/s]"
      ]
     },
     "metadata": {},
     "output_type": "display_data"
    },
    {
     "name": "stdout",
     "output_type": "stream",
     "text": [
      "/data/CT_Data/Task06_Lung/lung_064/lung_064_whseg.nii.gz\n"
     ]
    },
    {
     "data": {
      "application/vnd.jupyter.widget-view+json": {
       "model_id": "35b5887efbd0406890cf44b9c562ee03",
       "version_major": 2,
       "version_minor": 0
      },
      "text/plain": [
       "  0%|          | 0/248 [00:00<?, ?it/s]"
      ]
     },
     "metadata": {},
     "output_type": "display_data"
    },
    {
     "name": "stdout",
     "output_type": "stream",
     "text": [
      "/data/CT_Data/Task06_Lung/lung_004/lung_004_whseg.nii.gz\n"
     ]
    },
    {
     "data": {
      "application/vnd.jupyter.widget-view+json": {
       "model_id": "d757a770d6614497a90c4399a96f21a6",
       "version_major": 2,
       "version_minor": 0
      },
      "text/plain": [
       "  0%|          | 0/276 [00:00<?, ?it/s]"
      ]
     },
     "metadata": {},
     "output_type": "display_data"
    },
    {
     "name": "stdout",
     "output_type": "stream",
     "text": [
      "/data/CT_Data/Task06_Lung/lung_005/lung_005_whseg.nii.gz\n"
     ]
    },
    {
     "data": {
      "application/vnd.jupyter.widget-view+json": {
       "model_id": "3d74c37406a146d0b2931cf01e43637c",
       "version_major": 2,
       "version_minor": 0
      },
      "text/plain": [
       "  0%|          | 0/329 [00:00<?, ?it/s]"
      ]
     },
     "metadata": {},
     "output_type": "display_data"
    },
    {
     "name": "stdout",
     "output_type": "stream",
     "text": [
      "/data/CT_Data/Task06_Lung/lung_062/lung_062_whseg.nii.gz\n"
     ]
    },
    {
     "data": {
      "application/vnd.jupyter.widget-view+json": {
       "model_id": "a4c9327b285742afa41e6cc4f337aca3",
       "version_major": 2,
       "version_minor": 0
      },
      "text/plain": [
       "  0%|          | 0/243 [00:00<?, ?it/s]"
      ]
     },
     "metadata": {},
     "output_type": "display_data"
    },
    {
     "name": "stdout",
     "output_type": "stream",
     "text": [
      "/data/CT_Data/Task06_Lung/lung_041/lung_041_whseg.nii.gz\n"
     ]
    },
    {
     "data": {
      "application/vnd.jupyter.widget-view+json": {
       "model_id": "c7674fc23c134e788ed631f8c290ecc4",
       "version_major": 2,
       "version_minor": 0
      },
      "text/plain": [
       "  0%|          | 0/240 [00:00<?, ?it/s]"
      ]
     },
     "metadata": {},
     "output_type": "display_data"
    },
    {
     "name": "stdout",
     "output_type": "stream",
     "text": [
      "/data/CT_Data/Task06_Lung/lung_009/lung_009_whseg.nii.gz\n"
     ]
    },
    {
     "data": {
      "application/vnd.jupyter.widget-view+json": {
       "model_id": "92b9987730294cbbba229ec756fa940b",
       "version_major": 2,
       "version_minor": 0
      },
      "text/plain": [
       "  0%|          | 0/301 [00:00<?, ?it/s]"
      ]
     },
     "metadata": {},
     "output_type": "display_data"
    },
    {
     "name": "stdout",
     "output_type": "stream",
     "text": [
      "/data/CT_Data/Task06_Lung/lung_074/lung_074_whseg.nii.gz\n"
     ]
    },
    {
     "data": {
      "application/vnd.jupyter.widget-view+json": {
       "model_id": "c3fb7c8cbed541759302bdde1c2cade4",
       "version_major": 2,
       "version_minor": 0
      },
      "text/plain": [
       "  0%|          | 0/369 [00:00<?, ?it/s]"
      ]
     },
     "metadata": {},
     "output_type": "display_data"
    },
    {
     "name": "stdout",
     "output_type": "stream",
     "text": [
      "/data/CT_Data/Task06_Lung/lung_073/lung_073_whseg.nii.gz\n"
     ]
    },
    {
     "data": {
      "application/vnd.jupyter.widget-view+json": {
       "model_id": "23d5489fed464e06be8905ec2a356448",
       "version_major": 2,
       "version_minor": 0
      },
      "text/plain": [
       "  0%|          | 0/493 [00:00<?, ?it/s]"
      ]
     },
     "metadata": {},
     "output_type": "display_data"
    },
    {
     "name": "stdout",
     "output_type": "stream",
     "text": [
      "/data/CT_Data/Task06_Lung/lung_006/lung_006_whseg.nii.gz\n"
     ]
    },
    {
     "data": {
      "application/vnd.jupyter.widget-view+json": {
       "model_id": "0d9db7c096284c3f92162705d0b01d35",
       "version_major": 2,
       "version_minor": 0
      },
      "text/plain": [
       "  0%|          | 0/567 [00:00<?, ?it/s]"
      ]
     },
     "metadata": {},
     "output_type": "display_data"
    },
    {
     "name": "stdout",
     "output_type": "stream",
     "text": [
      "/data/CT_Data/Task06_Lung/lung_079/lung_079_whseg.nii.gz\n"
     ]
    },
    {
     "data": {
      "application/vnd.jupyter.widget-view+json": {
       "model_id": "4e277e62960542639629e11a58006a3d",
       "version_major": 2,
       "version_minor": 0
      },
      "text/plain": [
       "  0%|          | 0/251 [00:00<?, ?it/s]"
      ]
     },
     "metadata": {},
     "output_type": "display_data"
    },
    {
     "name": "stdout",
     "output_type": "stream",
     "text": [
      "/data/CT_Data/Task06_Lung/lung_029/lung_029_whseg.nii.gz\n"
     ]
    },
    {
     "data": {
      "application/vnd.jupyter.widget-view+json": {
       "model_id": "b6150c47b91b4f2aae2b1415de3d58a7",
       "version_major": 2,
       "version_minor": 0
      },
      "text/plain": [
       "  0%|          | 0/255 [00:00<?, ?it/s]"
      ]
     },
     "metadata": {},
     "output_type": "display_data"
    },
    {
     "name": "stdout",
     "output_type": "stream",
     "text": [
      "/data/CT_Data/Task06_Lung/lung_015/lung_015_whseg.nii.gz\n"
     ]
    },
    {
     "data": {
      "application/vnd.jupyter.widget-view+json": {
       "model_id": "a7a25dce86f74089a0a3f1a8327bfde8",
       "version_major": 2,
       "version_minor": 0
      },
      "text/plain": [
       "  0%|          | 0/277 [00:00<?, ?it/s]"
      ]
     },
     "metadata": {},
     "output_type": "display_data"
    },
    {
     "name": "stdout",
     "output_type": "stream",
     "text": [
      "/data/CT_Data/Task06_Lung/lung_038/lung_038_whseg.nii.gz\n"
     ]
    },
    {
     "data": {
      "application/vnd.jupyter.widget-view+json": {
       "model_id": "94aed34631024c519ec9f6dae3996bdd",
       "version_major": 2,
       "version_minor": 0
      },
      "text/plain": [
       "  0%|          | 0/125 [00:00<?, ?it/s]"
      ]
     },
     "metadata": {},
     "output_type": "display_data"
    },
    {
     "name": "stdout",
     "output_type": "stream",
     "text": [
      "/data/CT_Data/Task06_Lung/lung_016/lung_016_whseg.nii.gz\n"
     ]
    },
    {
     "data": {
      "application/vnd.jupyter.widget-view+json": {
       "model_id": "e7545b960b8a490d87ee092a8d84c005",
       "version_major": 2,
       "version_minor": 0
      },
      "text/plain": [
       "  0%|          | 0/228 [00:00<?, ?it/s]"
      ]
     },
     "metadata": {},
     "output_type": "display_data"
    },
    {
     "name": "stdout",
     "output_type": "stream",
     "text": [
      "/data/CT_Data/Task06_Lung/lung_078/lung_078_whseg.nii.gz\n"
     ]
    },
    {
     "data": {
      "application/vnd.jupyter.widget-view+json": {
       "model_id": "f348e2045b7d4100b56f3826252855f8",
       "version_major": 2,
       "version_minor": 0
      },
      "text/plain": [
       "  0%|          | 0/115 [00:00<?, ?it/s]"
      ]
     },
     "metadata": {},
     "output_type": "display_data"
    },
    {
     "name": "stdout",
     "output_type": "stream",
     "text": [
      "/data/CT_Data/Task06_Lung/lung_042/lung_042_whseg.nii.gz\n"
     ]
    },
    {
     "data": {
      "application/vnd.jupyter.widget-view+json": {
       "model_id": "c740df569504440a9f716267576f59d3",
       "version_major": 2,
       "version_minor": 0
      },
      "text/plain": [
       "  0%|          | 0/125 [00:00<?, ?it/s]"
      ]
     },
     "metadata": {},
     "output_type": "display_data"
    },
    {
     "name": "stdout",
     "output_type": "stream",
     "text": [
      "/data/CT_Data/Task06_Lung/lung_022/lung_022_whseg.nii.gz\n"
     ]
    },
    {
     "data": {
      "application/vnd.jupyter.widget-view+json": {
       "model_id": "630c6b0a6de242c98c511a2e5182216d",
       "version_major": 2,
       "version_minor": 0
      },
      "text/plain": [
       "  0%|          | 0/483 [00:00<?, ?it/s]"
      ]
     },
     "metadata": {},
     "output_type": "display_data"
    }
   ],
   "source": [
    "import Code_RANO.calc_RANO_2D as calc_rano\n",
    "from tqdm.auto import tqdm\n",
    "import time\n",
    "import nibabel as nib\n",
    "from os import walk\n",
    "import os\n",
    "import numpy as np\n",
    "\n",
    "overwrite = True\n",
    "RANO_out_path = \"_reg_label.npz\"\n",
    "segment_in_path = \"_whseg.nii.gz\"\n",
    "\n",
    "Path = \"/CT_Data/Task06_Lung/\"\n",
    "\n",
    "d = []\n",
    "cap_size = 0\n",
    "for (dir_path, dir_names, file_names) in walk(os.getcwd() + Path):\n",
    "#     print(dir_path, dir_names, file_names)\n",
    "    if not dir_names == []:\n",
    "        for file in dir_names[-cap_size:]:\n",
    "            if not file[0].startswith(\".\"):\n",
    "                d.append(file)\n",
    "                counter = len(d)\n",
    "                \n",
    "# print(d)\n",
    "\n",
    "output_size = len(d)\n",
    "print(\"Output Size\", output_size)\n",
    "print(\"\")\n",
    "\n",
    "# print the filenames and number associated that is allocated by the tqdm progress bar for reference.\n",
    "# for c in range(output_size):\n",
    "#     print(c+1,d[c])\n",
    "time.sleep(0.5)\n",
    "for x in tqdm(range(output_size)):\n",
    "    # not sure why this is here?\n",
    "    \n",
    "    if overwrite == True:\n",
    "#         print(Path + d[x] + \"/\" + d[x] + RANO_out_path)\n",
    "        if os.path.exists(Path + d[x] + \"/\" + d[x] + RANO_out_path):\n",
    "            os.remove(Path + d[x] + \"/\" + d[x] + RANO_out_path)\n",
    "            \n",
    "            \n",
    "            \n",
    "    # change the fformat of the files to produce the other RANO files - run the other one basically\n",
    "    \n",
    "    if not os.path.exists(Path + d[x] + \"/\" + d[x] + RANO_out_path):\n",
    "        print(os.getcwd() + Path + d[x] + \"/\" + d[x] + segment_in_path)\n",
    "        # print(os.getcwd() + Path + d[x] + \"/\" + d[x] + segment_in_path)\n",
    "        data_Plot = nib.load(os.getcwd() + Path + d[x] + \"/\" + d[x] + segment_in_path)\n",
    "        input_2 = data_Plot.get_fdata()\n",
    "\n",
    "        Bi_output = calc_rano.calc_2D_RANO_measure(input_2, pixdim=(240,240), affine=None, mask_value=0, axis=2, calc_multiple=False, background_image=None, output_filepath=\"output_rano\", verbose=False)\n",
    "        # print(os.getcwd() + Path + d[x] + \"/\" + d[x] + RANO_out_path)\n",
    "        np.savez(os.getcwd() + Path + d[x] + \"/\" + d[x] + RANO_out_path, RANO=Bi_output)"
   ]
  }
 ],
 "metadata": {
  "kernelspec": {
   "display_name": "Python 3",
   "language": "python",
   "name": "python3"
  },
  "language_info": {
   "codemirror_mode": {
    "name": "ipython",
    "version": 3
   },
   "file_extension": ".py",
   "mimetype": "text/x-python",
   "name": "python",
   "nbconvert_exporter": "python",
   "pygments_lexer": "ipython3",
   "version": "3.6.9"
  }
 },
 "nbformat": 4,
 "nbformat_minor": 4
}
