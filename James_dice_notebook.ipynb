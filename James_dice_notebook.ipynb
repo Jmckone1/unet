{
 "cells": [
  {
   "cell_type": "code",
   "execution_count": 9,
   "metadata": {},
   "outputs": [
    {
     "name": "stdout",
     "output_type": "stream",
     "text": [
      "(240, 240, 155)\n",
      "0.93986783905639\n",
      "0.939867678443125\n"
     ]
    }
   ],
   "source": [
    "import nibabel as nib\n",
    "import numpy as np\n",
    "import matplotlib.pyplot as plt\n",
    "pred = \"Predictions/MK_6_model_predictions/17_10_2022/newDice_Test_1_PTE/step_1/Brats18_TCIA09_254_1.nii.gz\"\n",
    "img_pred = nib.load(pred)\n",
    "pred_data = img_pred.get_fdata()\n",
    "\n",
    "truth = \"Brats_2018_data/Brats_2018_data/LGG/Brats18_TCIA09_254_1/Brats18_TCIA09_254_1_whseg_norm.nii.gz\"\n",
    "img_truth = nib.load(truth)\n",
    "truth_data = img_truth.get_fdata()\n",
    "\n",
    "x = pred_data[:,:,:]\n",
    "y = truth_data[:,:,:]\n",
    "\n",
    "print(y.shape)\n",
    "\n",
    "# print(np.sum(x))\n",
    "# print(np.sum(y))\n",
    "\n",
    "# plt.title(\"Prediction\")\n",
    "# plt.imshow(x)\n",
    "# plt.show()\n",
    "# plt.title(\"Truth\")\n",
    "# plt.imshow(y)\n",
    "# plt.show()\n",
    "\n",
    "def dice_score(prediction, truth):\n",
    "\n",
    "    pred_1 = np.clip(prediction, 0, 1.0)\n",
    "    truth_1 = np.clip(truth, 0, 1.0)\n",
    "\n",
    "    # binarize\n",
    "    pred_1 = np.where(pred_1 > 0.5, 1, 0)\n",
    "    truth_1 = np.where(truth_1 > 0.5, 1, 0)\n",
    "\n",
    "    # Dice calculation\n",
    "    product = np.dot(truth_1.flatten(), pred_1.flatten())\n",
    "    dice_num = 2 * product + 1\n",
    "    pred_sum = pred_1.sum()\n",
    "    label_sum = truth_1.sum()\n",
    "    dice_den = pred_sum + label_sum + 1\n",
    "    score = dice_num / dice_den\n",
    "    \n",
    "    if pred_1.sum() == 0 and truth_1.sum() > 2:\n",
    "        score = 0\n",
    "        \n",
    "    return score\n",
    "\n",
    "def calculate_dice(pred_seg, gt_lbl):\n",
    "    union_correct = pred_seg * gt_lbl\n",
    "    tp_num = np.sum(union_correct)\n",
    "    gt_pos_num = np.sum(gt_lbl)\n",
    "    dice = (2.0 * tp_num) / (np.sum(pred_seg) + gt_pos_num) if gt_pos_num != 0 else -1\n",
    "    return dice\n",
    "  \n",
    "print(dice_score(x,y))\n",
    "print(calculate_dice(x,y))\n",
    "\n"
   ]
  },
  {
   "cell_type": "code",
   "execution_count": null,
   "metadata": {},
   "outputs": [],
   "source": [
    "import nibabel as nib\n",
    "import numpy as np\n",
    "import matplotlib.pyplot as plt\n",
    "pred = \"Predictions/MK_6_model_predictions/17_10_2022/newDice_Test_1_PTE/step_1/Brats18_TCIA09_254_1.nii.gz\"\n",
    "img_pred = nib.load(pred)\n",
    "pred_data = img_pred.get_fdata()\n",
    "\n",
    "truth = \"Brats_2018_data/Brats_2018_data/LGG/Brats18_TCIA09_254_1/Brats18_TCIA09_254_1_whseg_norm.nii.gz\"\n",
    "img_truth = nib.load(truth)\n",
    "truth_data = img_truth.get_fdata()\n",
    "\n",
    "\n"
   ]
  },
  {
   "cell_type": "code",
   "execution_count": 19,
   "metadata": {},
   "outputs": [
    {
     "name": "stdout",
     "output_type": "stream",
     "text": [
      "(240, 240, 155)\n"
     ]
    },
    {
     "data": {
      "image/png": "[encoded data removed]",
      "text/plain": [
       "<Figure size 432x288 with 1 Axes>"
      ]
     },
     "metadata": {
      "needs_background": "light"
     },
     "output_type": "display_data"
    },
    {
     "name": "stdout",
     "output_type": "stream",
     "text": [
      "(240, 240, 155)\n"
     ]
    },
    {
     "data": {
      "image/png": "[encoded data removed]",
      "text/plain": [
       "<Figure size 432x288 with 1 Axes>"
      ]
     },
     "metadata": {
      "needs_background": "light"
     },
     "output_type": "display_data"
    }
   ],
   "source": [
    "import nibabel as nib\n",
    "import numpy as np\n",
    "import matplotlib.pyplot as plt\n",
    "pred = \"Predictions/MK_6_model_predictions/25_10_2022/newDice_Test_PTE_2/step_0_50/Brats18_TCIA09_254_1.nii.gz\"\n",
    "img_pred = nib.load(pred)\n",
    "pred_data = img_pred.get_fdata()\n",
    "\n",
    "print(pred_data.shape)\n",
    "plt.imshow(pred_data[:,:,70])\n",
    "plt.show()\n",
    "\n",
    "truth = \"Brats_2018_data/Brats_2018_data/LGG/Brats18_TCIA09_254_1/Brats18_TCIA09_254_1_whseg_norm.nii.gz\"\n",
    "img_truth = nib.load(truth)\n",
    "truth_data = img_truth.get_fdata()\n",
    "\n",
    "print(truth_data.shape)\n",
    "plt.imshow(truth_data[:,:,70])\n",
    "plt.show()"
   ]
  }
 ],
 "metadata": {
  "kernelspec": {
   "display_name": "Python 3",
   "language": "python",
   "name": "python3"
  },
  "language_info": {
   "codemirror_mode": {
    "name": "ipython",
    "version": 3
   },
   "file_extension": ".py",
   "mimetype": "text/x-python",
   "name": "python",
   "nbconvert_exporter": "python",
   "pygments_lexer": "ipython3",
   "version": "3.6.9"
  }
 },
 "nbformat": 4,
 "nbformat_minor": 4
}
