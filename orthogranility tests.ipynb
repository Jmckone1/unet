{
 "cells": [
  {
   "cell_type": "code",
   "execution_count": 12,
   "metadata": {},
   "outputs": [
    {
     "name": "stdout",
     "output_type": "stream",
     "text": [
      "135 1.004859173557616e-16\n"
     ]
    },
    {
     "data": {
      "image/png": "[encoded data removed]",
      "text/plain": [
       "<Figure size 432x288 with 1 Axes>"
      ]
     },
     "metadata": {
      "needs_background": "light"
     },
     "output_type": "display_data"
    }
   ],
   "source": [
    "import Code_UNet_2.Code_UNet_Re.Net_modules.Penalty_2 as penalty\n",
    "import numpy as np\n",
    "import os\n",
    "import torch\n",
    "import matplotlib.pyplot as plt\n",
    "import math\n",
    "os.environ[\"CUDA_DEVICE_ORDER\"]=\"PCI_BUS_ID\"\n",
    "os.environ[\"CUDA_VISIBLE_DEVICES\"]= str(3)\n",
    "loss,mse,cosine = 0,0,0\n",
    "\n",
    "\n",
    "\n",
    "Penalty = penalty.Penalty(0)\n",
    "\n",
    "# def rotate(p, origin=(0, 0), degrees=0):\n",
    "#     angle = np.deg2rad(degrees)\n",
    "#     R = np.array([[np.cos(angle), -np.sin(angle)],\n",
    "#                   [np.sin(angle),  np.cos(angle)]])\n",
    "#     o = np.atleast_2d(origin)\n",
    "#     p = np.atleast_2d(p)\n",
    "#     return np.squeeze((R @ (p.T-o.T) + o.T).T)\n",
    "\n",
    "def rotate(point, origin, degrees):\n",
    "    \n",
    "    radians = degrees\n",
    "    x,y = point\n",
    "    offset_x, offset_y = origin\n",
    "    adjusted_x = (x - offset_x)\n",
    "    adjusted_y = (y - offset_y)\n",
    "    cos_rad = np.cos(radians)\n",
    "    sin_rad = np.sin(radians)\n",
    "    qx = offset_x + cos_rad * adjusted_x + sin_rad * adjusted_y\n",
    "    qy = offset_y + -sin_rad * adjusted_x + cos_rad * adjusted_y\n",
    "    return qx, qy\n",
    "\n",
    "testing_rano_1_pred = data_in = [-100.,  -100.,  100., 100., -100.,  0.,  100., -0.]\n",
    "\n",
    "for angle in range(1):\n",
    "    testing_rano_1_pred = data_in = [-100.,  -100.,  100., 100., -100.,  0.,  100., -0.]\n",
    "#     print(testing_rano_1_pred)\n",
    "    angle = 135\n",
    "    testing_rano_1_out = testing_rano_1_pred\n",
    "    \n",
    "    x = rotate([testing_rano_1_out[0],testing_rano_1_out[1]], origin = (0,0), degrees = np.deg2rad(angle))\n",
    "    y = rotate([testing_rano_1_out[2],testing_rano_1_out[3]], origin = (0,0), degrees = np.deg2rad(angle))\n",
    "    \n",
    "    testing_rano_1_true = [0,0,0,0,0,0,0,0]\n",
    "    \n",
    "    testing_rano_1_out[0] = x[0]\n",
    "    testing_rano_1_out[1] = x[1]\n",
    "    testing_rano_1_out[2] = y[0]\n",
    "    testing_rano_1_out[3] = y[1]\n",
    "\n",
    "    D1 = np.asarray([[testing_rano_1_out[1],testing_rano_1_out[3]],[testing_rano_1_out[0],testing_rano_1_out[2]]]) \n",
    "    D2 = np.asarray([[testing_rano_1_out[5],testing_rano_1_out[7]],[testing_rano_1_out[4],testing_rano_1_out[6]]]) \n",
    "    \n",
    "    plt.plot(D1[0, :], D1[1, :], lw=2, c='y',label='_nolegend_')\n",
    "    plt.plot(D2[0, :], D2[1, :], lw=2, c='r',label='Prediction')\n",
    "\n",
    "    output = torch.from_numpy(np.array([testing_rano_1_out]).astype(float)).to(\"cuda\")\n",
    "\n",
    "    target = torch.from_numpy(np.array([testing_rano_1_out]).astype(float)).to(\"cuda\")\n",
    "\n",
    "    mean, mse, cosine = Penalty.MSELossorthogtest2_3(output, target)\n",
    "    print(angle, cosine.item())\n",
    "    \n",
    "plt.xlim([-200, 200])\n",
    "plt.ylim([-200, 200])\n",
    "plt.show()\n"
   ]
  },
  {
   "cell_type": "code",
   "execution_count": 7,
   "metadata": {},
   "outputs": [
    {
     "data": {
      "image/png": "[encoded data removed]",
      "text/plain": [
       "<Figure size 432x288 with 1 Axes>"
      ]
     },
     "metadata": {
      "needs_background": "light"
     },
     "output_type": "display_data"
    },
    {
     "data": {
      "image/png": "[encoded data removed]",
      "text/plain": [
       "<Figure size 432x288 with 1 Axes>"
      ]
     },
     "metadata": {
      "needs_background": "light"
     },
     "output_type": "display_data"
    },
    {
     "data": {
      "image/png": "[encoded data removed]",
      "text/plain": [
       "<Figure size 432x288 with 1 Axes>"
      ]
     },
     "metadata": {
      "needs_background": "light"
     },
     "output_type": "display_data"
    }
   ],
   "source": [
    "import Code_UNet_2.Code_UNet_Re.Net_modules.Penalty_2 as penalty\n",
    "import numpy as np\n",
    "import os\n",
    "import torch\n",
    "import matplotlib.pyplot as plt\n",
    "import math\n",
    "os.environ[\"CUDA_DEVICE_ORDER\"]=\"PCI_BUS_ID\"\n",
    "os.environ[\"CUDA_VISIBLE_DEVICES\"]= str(3)\n",
    "loss,mse,cosine = 0,0,0\n",
    "\n",
    "\n",
    "\n",
    "Penalty = penalty.Penalty(100)\n",
    "\n",
    "# def rotate(p, origin=(0, 0), degrees=0):\n",
    "#     angle = np.deg2rad(degrees)\n",
    "#     R = np.array([[np.cos(angle), -np.sin(angle)],\n",
    "#                   [np.sin(angle),  np.cos(angle)]])\n",
    "#     o = np.atleast_2d(origin)\n",
    "#     p = np.atleast_2d(p)\n",
    "#     return np.squeeze((R @ (p.T-o.T) + o.T).T)\n",
    "\n",
    "def rotate(point, origin, degrees):\n",
    "    \n",
    "    radians = degrees\n",
    "    x,y = point\n",
    "    offset_x, offset_y = origin\n",
    "    adjusted_x = (x - offset_x)\n",
    "    adjusted_y = (y - offset_y)\n",
    "    cos_rad = np.cos(radians)\n",
    "    sin_rad = np.sin(radians)\n",
    "    qx = offset_x + cos_rad * adjusted_x + sin_rad * adjusted_y\n",
    "    qy = offset_y + -sin_rad * adjusted_x + cos_rad * adjusted_y\n",
    "    return qx, qy\n",
    "\n",
    "testing_rano_1_pred = [-0.,  -100.,  0., 100., -100.,  0.,  100., -0.]\n",
    "\n",
    "max_angle = 180\n",
    "angle_out = np.zeros(max_angle)\n",
    "angle_out2 = np.zeros(max_angle)\n",
    "for angle in range(max_angle):\n",
    "    testing_rano_1_pred = [-0.,  -100.,  0., 100., -100.,  0.,  100., -0.]\n",
    "#     print(testing_rano_1_pred)\n",
    "    \n",
    "    testing_rano_1_out = testing_rano_1_pred\n",
    "    \n",
    "    x = rotate([testing_rano_1_out[0],testing_rano_1_out[1]], origin = (0,0), degrees = np.deg2rad(angle))\n",
    "    y = rotate([testing_rano_1_out[2],testing_rano_1_out[3]], origin = (0,0), degrees = np.deg2rad(angle))\n",
    "    \n",
    "    testing_rano_1_true = [0,0,0,0,0,0,0,0]\n",
    "    \n",
    "    testing_rano_1_out[0] = x[0]\n",
    "    testing_rano_1_out[1] = x[1]\n",
    "    testing_rano_1_out[2] = y[0]\n",
    "    testing_rano_1_out[3] = y[1]\n",
    "\n",
    "    D1 = np.asarray([[testing_rano_1_out[1],testing_rano_1_out[3]],[testing_rano_1_out[0],testing_rano_1_out[2]]]) \n",
    "    D2 = np.asarray([[testing_rano_1_out[5],testing_rano_1_out[7]],[testing_rano_1_out[4],testing_rano_1_out[6]]]) \n",
    "    \n",
    "    plt.plot(D1[0, :], D1[1, :], lw=2, c='y',label='_nolegend_')\n",
    "    plt.plot(D2[0, :], D2[1, :], lw=2, c='r',label='Prediction')\n",
    "\n",
    "    output = torch.from_numpy(np.array([testing_rano_1_out]).astype(float)).to(\"cuda\")\n",
    "\n",
    "    target = torch.from_numpy(np.array([testing_rano_1_out]).astype(float)).to(\"cuda\")\n",
    "\n",
    "#     mean, mse, cosine = Penalty.MSELossorthogtest2_3(output, target)\n",
    "#     if angle + 45 < 180 :\n",
    "#         print(angle + 45, cosine.item())\n",
    "#     else:\n",
    "#         print(abs(angle -(180 - 45)) , cosine.item())\n",
    "    mean, mse, cosine = Penalty.MSELossorthog(output, target)\n",
    "    angle_out[angle] = cosine.item()\n",
    "    \n",
    "    mean, mse, cosine = Penalty.MSELossorthogtest2_4(output, target)\n",
    "    angle_out2[angle] = cosine.item()\n",
    "#     if angle + 45 < max_angle:\n",
    "#         print(angle + 45, cosine.item())\n",
    "        \n",
    "#     else:\n",
    "#         print(abs(angle -(max_angle - 45)) , cosine.item())\n",
    "        \n",
    "#     print(\"\")\n",
    "    \n",
    "plt.xlim([-200, 200])\n",
    "plt.ylim([-200, 200])\n",
    "\n",
    "D1 = np.asarray([[testing_rano_1_pred[1],testing_rano_1_pred[3]],[testing_rano_1_pred[0],testing_rano_1_pred[2]]]) \n",
    "D2 = np.asarray([[testing_rano_1_pred[5],testing_rano_1_pred[7]],[testing_rano_1_pred[4],testing_rano_1_pred[6]]]) \n",
    "    \n",
    "plt.plot(D1[0, :], D1[1, :], lw=2, c='r',label='_nolegend_')\n",
    "plt.plot(D2[0, :], D2[1, :], lw=2, c='r',label='Prediction')\n",
    "\n",
    "plt.show()\n",
    "\n",
    "plt.bar(range(max_angle),angle_out)\n",
    "plt.show()\n",
    "\n",
    "plt.bar(range(max_angle),angle_out2)\n",
    "plt.show()"
   ]
  },
  {
   "cell_type": "code",
   "execution_count": 6,
   "metadata": {},
   "outputs": [
    {
     "name": "stdout",
     "output_type": "stream",
     "text": [
      "[ 95.  39. 101. 127. 122.  88.  60.  92.]\n"
     ]
    }
   ],
   "source": [
    "import numpy as np\n",
    "x = \"Datasets/Brats_2018_4/BiLabelsTr/Brats18_TCIA13_654_1_whseg_norm_91.npz\"\n",
    "\n",
    "with np.load(x) as data:\n",
    "    a = data['RANO']\n",
    "print(a)"
   ]
  },
  {
   "cell_type": "code",
   "execution_count": 7,
   "metadata": {},
   "outputs": [
    {
     "name": "stdout",
     "output_type": "stream",
     "text": [
      "0.9794570432566515\n"
     ]
    },
    {
     "data": {
      "image/png": "[encoded data removed]",
      "text/plain": [
       "<Figure size 432x288 with 1 Axes>"
      ]
     },
     "metadata": {
      "needs_background": "light"
     },
     "output_type": "display_data"
    },
    {
     "name": "stdout",
     "output_type": "stream",
     "text": [
      "0.15932149942223853\n"
     ]
    }
   ],
   "source": [
    "import numpy as np\n",
    "import matplotlib.pyplot as plt\n",
    "\n",
    "#random example\n",
    "#data_in = [22,20.1,21,21,24,20.4,20.4,20.9]\n",
    "#data_in = [21,20,22,20,21.5,19,21,21]\n",
    "#ground truth\n",
    "#data_in = [114,  72., 100., 144.,  79., 118., 125., 127.]\n",
    "#predicted output\n",
    "#data_in = [115.23313904,  78.22728729,  94.15744019, 132.23550415,  64.21520233, 116.42913055, 119.44830322, 126.70836639]\n",
    "\n",
    "#data_in = [114.,  65.,  87., 155., 132., 107.,  71.,  89.]\n",
    "data_in = [114.,  65.,  87., 155., 119.,  66.,  78., 156.]\n",
    "\n",
    "#data_in = [0,0,0,0,0,0,0,0]\n",
    "x_maj = [data_in[1],data_in[3]]\n",
    "x_min = [data_in[0],data_in[2]]\n",
    "y_maj = [data_in[5],data_in[7]]\n",
    "y_min = [data_in[4],data_in[6]]\n",
    "\n",
    "def unit_vector(vector):\n",
    "    return vector / np.linalg.norm(vector)\n",
    "\n",
    "major = [y_maj[1] - y_maj[0], x_maj[1] - x_maj[0]]\n",
    "minor = [y_min[1] - y_min[0], x_min[1] - x_min[0]]\n",
    "print(abs(np.dot(unit_vector(major), unit_vector(minor))))\n",
    "\n",
    "plt.plot(x_maj, x_min, lw=2, c='b',label='_nolegend_')\n",
    "plt.plot(y_maj,y_min, lw=2, c='b',label='Prediction')\n",
    "plt.legend(str(np.dot(unit_vector(major), unit_vector(minor))))\n",
    "plt.show()\n",
    "\n",
    "######################################\n",
    "\n",
    "output_val = [x_maj[0], y_maj[0], x_maj[1], y_maj[1], x_min[0], y_min[0], x_min[1], y_min[1]]\n",
    "\n",
    "l1 = np.sqrt(np.square(data_in[1]-data_in[3]) + np.square(data_in[0]-data_in[2]))\n",
    "l2 = np.sqrt(np.square(data_in[5]-data_in[7]) + np.square(data_in[4]-data_in[6]))\n",
    "\n",
    "# calculate the slope of each of the lines\n",
    "m1 = (abs(output_val[1]/l1-output_val[3]/l1))/(abs(output_val[0]/l1-output_val[2]/l1)+1)\n",
    "m2 = (abs(output_val[5]/l2-output_val[7]/l2))/(abs(output_val[4]/l2-output_val[6]/l2)+1)\n",
    "\n",
    "# calculate the orthogonality/ perpendicularity with 0 being perpendicular, 100 being parallel\n",
    "orthog = np.dot(m1,m2)\n",
    "\n",
    "print(orthog)"
   ]
  }
 ],
 "metadata": {
  "kernelspec": {
   "display_name": "Python 3",
   "language": "python",
   "name": "python3"
  },
  "language_info": {
   "codemirror_mode": {
    "name": "ipython",
    "version": 3
   },
   "file_extension": ".py",
   "mimetype": "text/x-python",
   "name": "python",
   "nbconvert_exporter": "python",
   "pygments_lexer": "ipython3",
   "version": "3.6.9"
  }
 },
 "nbformat": 4,
 "nbformat_minor": 4
}
